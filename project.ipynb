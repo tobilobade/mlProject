{
 "cells": [
  {
   "cell_type": "code",
   "execution_count": null,
   "metadata": {},
   "outputs": [],
   "source": [
    "# prompt: Write code to get total rolls and column in FIFA23_official_data.csv\n",
    "\n",
    "import pandas as pd\n",
    "\n",
    "# Read the CSV file\n",
    "df = pd.read_csv(\"FIFA23_official_data.csv\")\n",
    "\n",
    "# Get the total number of rows and columns\n",
    "total_rows = df.shape[0]\n",
    "total_columns = df.shape[1]\n",
    "\n",
    "# Print the results\n",
    "print(\"Total rows:\", total_rows)\n",
    "print(\"Total columns:\", total_columns)"
   ]
  }
 ],
 "metadata": {
  "language_info": {
   "name": "python"
  }
 },
 "nbformat": 4,
 "nbformat_minor": 2
}
