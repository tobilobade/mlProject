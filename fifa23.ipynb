{
 "cells": [
  {
   "cell_type": "code",
   "execution_count": 7,
   "metadata": {},
   "outputs": [
    {
     "name": "stdout",
     "output_type": "stream",
     "text": [
      "Total rows: 17660\n",
      "Total columns: 29\n"
     ]
    }
   ],
   "source": [
    "import pandas as pd\n",
    "\n",
    "# Read the CSV file with specified data types\n",
    "df = pd.read_csv(\"FIFA23_official_data.csv\", dtype={'Preferred Foot': str, 'Work Rate': str})\n",
    "\n",
    "# Clean up 'Best Overall Rating' column\n",
    "df['Best Overall Rating'] = df['Best Overall Rating'].str.extract(r'(\\d+)').astype(float)\n",
    "\n",
    "# Get the total number of rows and columns\n",
    "total_rows = df.shape[0]\n",
    "total_columns = df.shape[1]\n",
    "\n",
    "# Print the results\n",
    "print(\"Total rows:\", total_rows)\n",
    "print(\"Total columns:\", total_columns)\n"
   ]
  },
  {
   "cell_type": "code",
   "execution_count": 8,
   "metadata": {},
   "outputs": [
    {
     "name": "stdout",
     "output_type": "stream",
     "text": [
      "ID                                                                    209658\n",
      "Name                                                             L. Goretzka\n",
      "Age                                                                       27\n",
      "Photo                       https://cdn.sofifa.net/players/209/658/23_60.png\n",
      "Nationality                                                          Germany\n",
      "Flag                                     https://cdn.sofifa.net/flags/de.png\n",
      "Overall                                                                   87\n",
      "Potential                                                                 88\n",
      "Club                                                       FC Bayern München\n",
      "Club Logo                             https://cdn.sofifa.net/teams/21/30.png\n",
      "Value                                                                   €91M\n",
      "Wage                                                                   €115K\n",
      "Special                                                                 2312\n",
      "Preferred Foot                                                         Right\n",
      "International Reputation                                                 4.0\n",
      "Weak Foot                                                                4.0\n",
      "Skill Moves                                                              3.0\n",
      "Work Rate                                                       High/ Medium\n",
      "Body Type                                                             Unique\n",
      "Real Face                                                                Yes\n",
      "Position                                         <span class=\"pos pos28\">SUB\n",
      "Joined                                                           Jul 1, 2018\n",
      "Loaned From                                                              NaN\n",
      "Contract Valid Until                                                    2026\n",
      "Height                                                                 189cm\n",
      "Weight                                                                  82kg\n",
      "Release Clause                                                         €157M\n",
      "Kit Number                                                               8.0\n",
      "Best Overall Rating                                                      NaN\n",
      "Name: 0, dtype: object\n"
     ]
    }
   ],
   "source": [
    "print(df.iloc[0])"
   ]
  },
  {
   "cell_type": "code",
   "execution_count": 9,
   "metadata": {},
   "outputs": [
    {
     "name": "stdout",
     "output_type": "stream",
     "text": [
      "ID                             0\n",
      "Name                           0\n",
      "Age                            0\n",
      "Photo                          0\n",
      "Nationality                    0\n",
      "Flag                           0\n",
      "Overall                        0\n",
      "Potential                      0\n",
      "Club                         211\n",
      "Club Logo                      0\n",
      "Value                          0\n",
      "Wage                           0\n",
      "Special                        0\n",
      "Preferred Foot                 0\n",
      "International Reputation       0\n",
      "Weak Foot                      0\n",
      "Skill Moves                    0\n",
      "Work Rate                      0\n",
      "Body Type                     38\n",
      "Real Face                     38\n",
      "Position                      35\n",
      "Joined                      1098\n",
      "Contract Valid Until         361\n",
      "Height                         0\n",
      "Weight                         0\n",
      "Release Clause              1151\n",
      "Kit Number                    35\n",
      "dtype: int64\n"
     ]
    }
   ],
   "source": [
    "# Drop columns that are not needed\n",
    "columns_to_drop = ['Best Overall Rating', 'Loaned From']\n",
    "df.drop(columns_to_drop, axis=1, inplace=True)\n",
    "print(df.isnull().sum()) #check if Nan value still dey\n"
   ]
  },
  {
   "cell_type": "code",
   "execution_count": 10,
   "metadata": {},
   "outputs": [
    {
     "name": "stdout",
     "output_type": "stream",
     "text": [
      "ID                          0\n",
      "Name                        0\n",
      "Age                         0\n",
      "Photo                       0\n",
      "Nationality                 0\n",
      "Flag                        0\n",
      "Overall                     0\n",
      "Potential                   0\n",
      "Club                        0\n",
      "Club Logo                   0\n",
      "Value                       0\n",
      "Wage                        0\n",
      "Special                     0\n",
      "Preferred Foot              0\n",
      "International Reputation    0\n",
      "Weak Foot                   0\n",
      "Skill Moves                 0\n",
      "Work Rate                   0\n",
      "Body Type                   0\n",
      "Real Face                   0\n",
      "Position                    0\n",
      "Joined                      0\n",
      "Contract Valid Until        0\n",
      "Height                      0\n",
      "Weight                      0\n",
      "Release Clause              0\n",
      "Kit Number                  0\n",
      "dtype: int64\n"
     ]
    },
    {
     "name": "stderr",
     "output_type": "stream",
     "text": [
      "/var/folders/7t/m9mwq9ks5kz_9yfr34qc2hdr0000gn/T/ipykernel_27327/3412504070.py:1: FutureWarning: A value is trying to be set on a copy of a DataFrame or Series through chained assignment using an inplace method.\n",
      "The behavior will change in pandas 3.0. This inplace method will never work because the intermediate object on which we are setting values always behaves as a copy.\n",
      "\n",
      "For example, when doing 'df[col].method(value, inplace=True)', try using 'df.method({col: value}, inplace=True)' or df[col] = df[col].method(value) instead, to perform the operation inplace on the original object.\n",
      "\n",
      "\n",
      "  df['Club'].fillna('Unknown', inplace=True)  # Replace NaN in 'Club' with 'Unknown'\n",
      "/var/folders/7t/m9mwq9ks5kz_9yfr34qc2hdr0000gn/T/ipykernel_27327/3412504070.py:2: FutureWarning: A value is trying to be set on a copy of a DataFrame or Series through chained assignment using an inplace method.\n",
      "The behavior will change in pandas 3.0. This inplace method will never work because the intermediate object on which we are setting values always behaves as a copy.\n",
      "\n",
      "For example, when doing 'df[col].method(value, inplace=True)', try using 'df.method({col: value}, inplace=True)' or df[col] = df[col].method(value) instead, to perform the operation inplace on the original object.\n",
      "\n",
      "\n",
      "  df['Body Type'].fillna('Unknown', inplace=True)  # Replace NaN in 'Body Type' with 'Unknown'\n",
      "/var/folders/7t/m9mwq9ks5kz_9yfr34qc2hdr0000gn/T/ipykernel_27327/3412504070.py:3: FutureWarning: A value is trying to be set on a copy of a DataFrame or Series through chained assignment using an inplace method.\n",
      "The behavior will change in pandas 3.0. This inplace method will never work because the intermediate object on which we are setting values always behaves as a copy.\n",
      "\n",
      "For example, when doing 'df[col].method(value, inplace=True)', try using 'df.method({col: value}, inplace=True)' or df[col] = df[col].method(value) instead, to perform the operation inplace on the original object.\n",
      "\n",
      "\n",
      "  df['Real Face'].fillna('Unknown', inplace=True)  # Replace NaN in 'Real Face' with 'Unknown'\n",
      "/var/folders/7t/m9mwq9ks5kz_9yfr34qc2hdr0000gn/T/ipykernel_27327/3412504070.py:4: FutureWarning: A value is trying to be set on a copy of a DataFrame or Series through chained assignment using an inplace method.\n",
      "The behavior will change in pandas 3.0. This inplace method will never work because the intermediate object on which we are setting values always behaves as a copy.\n",
      "\n",
      "For example, when doing 'df[col].method(value, inplace=True)', try using 'df.method({col: value}, inplace=True)' or df[col] = df[col].method(value) instead, to perform the operation inplace on the original object.\n",
      "\n",
      "\n",
      "  df['Position'].fillna('Unknown', inplace=True)  # Replace NaN in 'Position' with 'Unknown'\n",
      "/var/folders/7t/m9mwq9ks5kz_9yfr34qc2hdr0000gn/T/ipykernel_27327/3412504070.py:5: FutureWarning: A value is trying to be set on a copy of a DataFrame or Series through chained assignment using an inplace method.\n",
      "The behavior will change in pandas 3.0. This inplace method will never work because the intermediate object on which we are setting values always behaves as a copy.\n",
      "\n",
      "For example, when doing 'df[col].method(value, inplace=True)', try using 'df.method({col: value}, inplace=True)' or df[col] = df[col].method(value) instead, to perform the operation inplace on the original object.\n",
      "\n",
      "\n",
      "  df['Joined'].fillna('Unknown', inplace=True)  # Replace NaN in 'Joined' with 'Unknown'\n",
      "/var/folders/7t/m9mwq9ks5kz_9yfr34qc2hdr0000gn/T/ipykernel_27327/3412504070.py:6: FutureWarning: A value is trying to be set on a copy of a DataFrame or Series through chained assignment using an inplace method.\n",
      "The behavior will change in pandas 3.0. This inplace method will never work because the intermediate object on which we are setting values always behaves as a copy.\n",
      "\n",
      "For example, when doing 'df[col].method(value, inplace=True)', try using 'df.method({col: value}, inplace=True)' or df[col] = df[col].method(value) instead, to perform the operation inplace on the original object.\n",
      "\n",
      "\n",
      "  df['Contract Valid Until'].fillna('Unknown', inplace=True)  # Replace NaN in 'Contract Valid Until' with 'Unknown'\n",
      "/var/folders/7t/m9mwq9ks5kz_9yfr34qc2hdr0000gn/T/ipykernel_27327/3412504070.py:7: FutureWarning: A value is trying to be set on a copy of a DataFrame or Series through chained assignment using an inplace method.\n",
      "The behavior will change in pandas 3.0. This inplace method will never work because the intermediate object on which we are setting values always behaves as a copy.\n",
      "\n",
      "For example, when doing 'df[col].method(value, inplace=True)', try using 'df.method({col: value}, inplace=True)' or df[col] = df[col].method(value) instead, to perform the operation inplace on the original object.\n",
      "\n",
      "\n",
      "  df['Release Clause'].fillna('Unknown', inplace=True)\n",
      "/var/folders/7t/m9mwq9ks5kz_9yfr34qc2hdr0000gn/T/ipykernel_27327/3412504070.py:8: FutureWarning: A value is trying to be set on a copy of a DataFrame or Series through chained assignment using an inplace method.\n",
      "The behavior will change in pandas 3.0. This inplace method will never work because the intermediate object on which we are setting values always behaves as a copy.\n",
      "\n",
      "For example, when doing 'df[col].method(value, inplace=True)', try using 'df.method({col: value}, inplace=True)' or df[col] = df[col].method(value) instead, to perform the operation inplace on the original object.\n",
      "\n",
      "\n",
      "  df['Kit Number'].fillna('Unknown', inplace=True)\n",
      "/var/folders/7t/m9mwq9ks5kz_9yfr34qc2hdr0000gn/T/ipykernel_27327/3412504070.py:8: FutureWarning: Setting an item of incompatible dtype is deprecated and will raise an error in a future version of pandas. Value 'Unknown' has dtype incompatible with float64, please explicitly cast to a compatible dtype first.\n",
      "  df['Kit Number'].fillna('Unknown', inplace=True)\n"
     ]
    }
   ],
   "source": [
    "df['Club'].fillna('Unknown', inplace=True)  # Replace NaN in 'Club' with 'Unknown'\n",
    "df['Body Type'].fillna('Unknown', inplace=True)  # Replace NaN in 'Body Type' with 'Unknown'\n",
    "df['Real Face'].fillna('Unknown', inplace=True)  # Replace NaN in 'Real Face' with 'Unknown'\n",
    "df['Position'].fillna('Unknown', inplace=True)  # Replace NaN in 'Position' with 'Unknown'\n",
    "df['Joined'].fillna('Unknown', inplace=True)  # Replace NaN in 'Joined' with 'Unknown'\n",
    "df['Contract Valid Until'].fillna('Unknown', inplace=True)  # Replace NaN in 'Contract Valid Until' with 'Unknown'\n",
    "df['Release Clause'].fillna('Unknown', inplace=True)\n",
    "df['Kit Number'].fillna('Unknown', inplace=True)\n",
    "print(df.isnull().sum())"
   ]
  }
 ],
 "metadata": {
  "kernelspec": {
   "display_name": "Python 3",
   "language": "python",
   "name": "python3"
  },
  "language_info": {
   "codemirror_mode": {
    "name": "ipython",
    "version": 3
   },
   "file_extension": ".py",
   "mimetype": "text/x-python",
   "name": "python",
   "nbconvert_exporter": "python",
   "pygments_lexer": "ipython3",
   "version": "3.9.6"
  }
 },
 "nbformat": 4,
 "nbformat_minor": 2
}
