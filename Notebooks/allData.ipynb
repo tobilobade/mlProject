{
 "cells": [
  {
   "cell_type": "code",
   "execution_count": 7,
   "metadata": {},
   "outputs": [
    {
     "name": "stdout",
     "output_type": "stream",
     "text": [
      "No missing values in Combined Data.\n",
      "Total rows in the combined dataset: 51478\n",
      "Total columns in the combined dataset: 28\n"
     ]
    }
   ],
   "source": [
    "import pandas as pd\n",
    "\n",
    "# Load datasets with specific data types\n",
    "df_21 = pd.read_csv('../Dataset/FIFA21_official_data.csv', dtype={'Preferred Foot': str, 'Work Rate': str})\n",
    "df_22 = pd.read_csv('../Dataset/FIFA22_official_data.csv', dtype={'Preferred Foot': str, 'Work Rate': str})\n",
    "df_23 = pd.read_csv('../Dataset/FIFA23_official_data.csv', dtype={'Preferred Foot': str, 'Work Rate': str})\n",
    "\n",
    "# Function to handle missing values and specific column transformations\n",
    "def handle_missing_values_and_transform(df):\n",
    "    # Handle missing values for numeric columns\n",
    "    numeric_cols = df.select_dtypes(include=['float64', 'int64']).columns\n",
    "    df[numeric_cols] = df[numeric_cols].apply(lambda x: x.fillna(x.median()), axis=0)\n",
    "    \n",
    "    # Handle missing values for categorical columns\n",
    "    categorical_cols = df.select_dtypes(include=['object']).columns\n",
    "    for col in categorical_cols:\n",
    "        mode_value = df[col].mode()[0] if not df[col].mode().empty else 'Unknown'\n",
    "        df[col] = df[col].fillna(mode_value)\n",
    "    \n",
    "    # Clean up 'Best Overall Rating' column if it exists\n",
    "    if 'Best Overall Rating' in df.columns:\n",
    "        df['Best Overall Rating'] = df['Best Overall Rating'].astype(str).str.extract(r'(\\d+)').astype(float)\n",
    "    \n",
    "    return df\n",
    "\n",
    "# Apply function to datasets\n",
    "df_21 = handle_missing_values_and_transform(df_21)\n",
    "df_22 = handle_missing_values_and_transform(df_22)\n",
    "df_23 = handle_missing_values_and_transform(df_23)\n",
    "\n",
    "# Combine datasets\n",
    "common_columns = list(set(df_21.columns) & set(df_22.columns) & set(df_23.columns))\n",
    "df_21 = df_21[common_columns]\n",
    "df_22 = df_22[common_columns]\n",
    "df_23 = df_23[common_columns]\n",
    "\n",
    "combined_df = pd.concat([df_21, df_22, df_23], ignore_index=True)\n",
    "\n",
    "# Check for remaining missing values\n",
    "def check_missing_values(df, name):\n",
    "    missing = df.isnull().sum()\n",
    "    missing = missing[missing > 0]\n",
    "    if not missing.empty:\n",
    "        print(f\"Remaining missing values in {name} Data:\")\n",
    "        print(missing)\n",
    "    else:\n",
    "        print(f\"No missing values in {name} Data.\")\n",
    "\n",
    "# Check for missing values in the combined dataset\n",
    "check_missing_values(combined_df, \"Combined\")\n",
    "\n",
    "# Print the total number of rows and columns in the combined dataset\n",
    "total_rows = combined_df.shape[0]\n",
    "total_columns = combined_df.shape[1]\n",
    "print(\"Total rows in the combined dataset:\", total_rows)\n",
    "print(\"Total columns in the combined dataset:\", total_columns)\n"
   ]
  },
  {
   "cell_type": "code",
   "execution_count": 8,
   "metadata": {},
   "outputs": [],
   "source": [
    "combined_df.to_csv('../Dataset/Cleaned/combinedCleanedData.csv', index=False)"
   ]
  },
  {
   "cell_type": "code",
   "execution_count": 10,
   "metadata": {},
   "outputs": [
    {
     "name": "stdout",
     "output_type": "stream",
     "text": [
      "DataFrame saved to ../Dataset/Cleaned/combinedCleanedData_20240709_133832.csv\n"
     ]
    }
   ],
   "source": [
    "from datetime import datetime\n",
    "# Generate current timestamp\n",
    "current_timestamp = datetime.now().strftime('%Y%m%d_%H%M%S')\n",
    "\n",
    "# Save the combined DataFrame with the timestamp in the filename\n",
    "output_path = f'../Dataset/Cleaned/combinedCleanedData_{current_timestamp}.csv'\n",
    "combined_df.to_csv(output_path, index=False)\n",
    "\n",
    "print(f\"DataFrame saved to {output_path}\")"
   ]
  }
 ],
 "metadata": {
  "kernelspec": {
   "display_name": "Python 3",
   "language": "python",
   "name": "python3"
  },
  "language_info": {
   "codemirror_mode": {
    "name": "ipython",
    "version": 3
   },
   "file_extension": ".py",
   "mimetype": "text/x-python",
   "name": "python",
   "nbconvert_exporter": "python",
   "pygments_lexer": "ipython3",
   "version": "3.11.8"
  }
 },
 "nbformat": 4,
 "nbformat_minor": 2
}
